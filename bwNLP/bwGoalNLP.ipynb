{
 "cells": [
  {
   "cell_type": "markdown",
   "metadata": {},
   "source": [
    "  another tagger https://spacy.io/api/"
   ]
  },
  {
   "cell_type": "code",
   "execution_count": null,
   "metadata": {
    "collapsed": true
   },
   "outputs": [],
   "source": [
    "import nltk"
   ]
  },
  {
   "cell_type": "code",
   "execution_count": null,
   "metadata": {
    "collapsed": false
   },
   "outputs": [],
   "source": [
    "%%writefile bwcorpora.py\n",
    "\n",
    "import nltk\n",
    "\n",
    "texts = []\n",
    "\n",
    "# TC1 \n",
    "texts.append(\"Build a tower of height 5 at coordinate (0,1) with red block as the first block and black block as the last block.\")\n",
    "texts.append(\"Build a tower of height 5 at coordinates (0,1) with red block as the first block and black block as the last.\")\n",
    "\n",
    "texts.append(\"Build a tower of height 5 at coordinates (0,1) with a red block as the first block and a black block as the last block.\")\n",
    "texts.append(\"Build a tower of height 5 at coordinates (0,1) with a red block as the first block and a black block as the last.\")\n",
    "\n",
    "texts.append(\"A tower of height 5 at coordinates (0,1) with a red block as the first block and a black block as the last block.\")\n",
    "\n",
    "# abbv of height used\n",
    "texts.append(\"A tower of ht 5 at coordinates (0,1) with a red block as the first block and a black block as the last block.\")\n",
    "\n",
    "texts.append(\"A tower 5 blocks tall at coordinates (0,1) with a red block at the bottom and black block at the top.\")\n",
    "\n",
    "texts.append(\"Red block at the bottom and black block at the top in a tower 5 blocks tall at coordinates (0,1).\")\n",
    "\n",
    "texts.append(\"Red block at the bottom, black block at the top in a tower 5 blocks tall at coordinates (0,1).\")\n",
    "\n",
    "texts.append(\"A tower five blocks tall at coordinates (0,1) with a red block as the first block and a black block as the last block.\")\n",
    "\n",
    "texts.append(\"A tower 5 blocks tall at coordinates (0,1) with a red block in position 0 and a black block in position 4.\")\n",
    "\n",
    "texts.append(\"A tower 5 blocks tall at coordinates (0,1) with a red block in 0th position and a black block in last position.\")\n",
    "\n",
    "texts.append(\"A tower 5 blocks tall at coordinates (0,1) with a red block in 0th position and a black block in 4th position.\")\n",
    "\n",
    "texts.append(\"A tower 5 blocks tall at coordinates (0,1) with a red block in 0th position, a black block in 4th position and any block at other positions.\")\n",
    "\n",
    "texts.append(\"A tower 5 blocks tall at coordinates (0,1) with a red block in 0th position, a black block in 4th position and block of any color at other positions.\")\n",
    "\n",
    "texts.append(\"A tower 5 blocks tall at coordinates 0,1 with a red block in 0th position, a black block in 4th position and block of any color at other positions.\")\n",
    "\n",
    "texts.append(\"A tower 5 blocks tall at any coordinates with a red block in 0th position, a black block in 4th position and block of any color at other positions.\")\n",
    "\n",
    "#TC#2\n",
    "texts.append(\"A tower of height 2 at coordinate (0,0) with a black block above a red block\")\n",
    "texts.append(\"A tower 2 blocks tall at coordinate (0,0) with a black block above a red block\")\n",
    "texts.append(\"A tower of height 2 at coordinate (0,0) with a red block below a black block\")\n",
    "texts.append(\"A tower 2 blocks tall at coordinate (0,0) with a red block below a black block\")\n",
    "\n",
    "texts.append(\"A tower of height 2 at coordinate (0,0) with a red block at bottom and a black block at the top\")\n",
    "texts.append(\"A tower 2 blocks tall at coordinate (0,0) with a red block at bottom and a black block at the top\")\n",
    "\n",
    "texts.append(\"A tower of height 2 at coordinate (0,0) with a black block at the top and a red block at the bottom\")\n",
    "texts.append(\"A tower 2 blocks tall at coordinate (0,0) with a black block at the top and a red block at the bottom\")\n",
    "\n",
    "texts.append(\"A tower at coordinate (0,0) with red block at position 0 and black block at position 1\")\n",
    "\n",
    "texts.append(\"A tower with red block at position 0 and black block at position 1 and at coordinate (0,1)\")\n",
    "\n",
    "#TC#2 variant\n",
    "texts.append(\"A tower of height 2 at coordinate (0,0) with red and black block\")\n",
    "texts.append(\"A tower of height 2 at coordinate (0,0) with a red block and a black block\")\n",
    "texts.append(\"A tower at coordinate (0,0) with a red block and a black block\")\n",
    "texts.append(\"A tower with a red block and a black block and at coordinate (0,0)\")\n",
    "\n",
    "\n",
    "# TC3 covered in following\n",
    "texts.append(\"A tower seventeen blocks tall at any coordinate.\")\n",
    "texts.append(\"A tower 17 blocks tall at any coordinate.\")\n",
    "\n",
    "texts.append(\"A tower seventeen blocks tall at any position in xz plane.\")\n",
    "texts.append(\"A tower 17 blocks tall at any position in xz plane.\")\n",
    "\n",
    "texts.append(\"A tower anywhere and seventeen blocks tall.\")\n",
    "texts.append(\"A tower anywhere and 17 blocks tall.\")\n",
    "\n",
    "texts.append(\"A tower anywhere and with height seventeen.\")\n",
    "texts.append(\"A tower anywhere and with height 17.\")\n",
    "\n",
    "texts.append(\"A tower anywhere with seventeen blocks.\")\n",
    "texts.append(\"A tower anywhere with 17 blocks.\")\n",
    "\n",
    "texts.append(\"A tower with seventeen blocks and anywhere.\")\n",
    "texts.append(\"A tower with 17 blocks and anywhere.\")\n",
    "\n",
    "texts.append(\"Seventeen blocks stacked together anywhere.\")\n",
    "texts.append(\"17 blocks stacked together anywhere.\")\n",
    "\n",
    "texts.append(\"Any seventeen blocks stacked together anywhere.\")\n",
    "texts.append(\"Any 17 blocks stacked together anywhere.\")\n",
    "\n",
    "texts.append(\"Any seventeen blocks stacked together in a tower anywhere.\")\n",
    "texts.append(\"Any 17 blocks stacked together in a tower anywhere.\")\n",
    "\n",
    "texts.append(\"Seventeen blocks stacked one above another at any position in xz plane.\")\n",
    "texts.append(\"17 blocks stacked one above another at any position in xz plane.\")\n",
    "\n",
    "texts.append(\"Seventeen blocks in a tower at any position in xz plane.\")\n",
    "texts.append(\"17 blocks in a tower at any position in xz plane.\")\n",
    "\n",
    "texts.append(\"Anywhere build a tower seventeen blocks tall.\")\n",
    "texts.append(\"Anywhere build a tower 17 blocks tall.\")\n",
    "\n",
    "texts.append(\"Build a tower seventeen blocks tall anywhere.\")\n",
    "texts.append(\"Build a tower 17 blocks tall anywhere.\")\n",
    "\n",
    "texts.append(\"Build a tower of height seventeen anywhere.\")\n",
    "texts.append(\"Build a tower of height 17 anywhere.\")\n",
    "\n",
    "texts.append(\"Build a tower with seventeen blocks anywhere.\")\n",
    "texts.append(\"Build a tower with 17 blocks anywhere.\")\n",
    "\n",
    "texts.append(\"Build a tower with seventeen blocks.\")\n",
    "texts.append(\"Build a tower with 17 blocks.\")\n",
    "\n",
    "texts.append(\"Build a tower with seventeen blocks at any position in xz plane.\")\n",
    "texts.append(\"Build a tower with 17 blocks at any position in xz plane.\")\n",
    "\n",
    "texts.append(\"Build a tower anywhere with seventeen blocks.\")\n",
    "texts.append(\"Build a tower anywhere with 17 blocks.\")\n",
    "\n",
    "texts.append(\"Build a tower anywhere and with seventeen blocks.\")\n",
    "texts.append(\"Build a tower anywhere and with 17 blocks.\")\n",
    "\n",
    "texts.append(\"Build a tower at any position in xz plane and with seventeen blocks.\")\n",
    "texts.append(\"Build a tower at any position in xz plane and with 17 blocks.\")\n",
    "\n",
    "texts.append(\"Build a tower at any position in xz plane and with seventeen blocks.\")\n",
    "texts.append(\"Build a tower at any position in xz plane and with 17 blocks.\")\n",
    "\n",
    "def posTag():\n",
    "    \n",
    "    taggedTexts = {}\n",
    "\n",
    "    for text in texts:\n",
    "        taggedTexts[text] = nltk.pos_tag(nltk.word_tokenize(text))\n",
    "\n",
    "    for text in texts:\n",
    "        print(taggedTexts[text])\n",
    "        print()"
   ]
  },
  {
   "cell_type": "code",
   "execution_count": null,
   "metadata": {
    "collapsed": false
   },
   "outputs": [],
   "source": [
    "# %load bwcorpora.py\n",
    "\n",
    "import nltk\n",
    "\n",
    "texts = []\n",
    "\n",
    "# TC1 \n",
    "texts.append(\"Build a tower of height 5 at coordinate (0,1) with red block as the first block and black block as the last block.\")\n",
    "texts.append(\"Build a tower of height 5 at coordinates (0,1) with red block as the first block and black block as the last.\")\n",
    "\n",
    "texts.append(\"Build a tower of height 5 at coordinates (0,1) with a red block as the first block and a black block as the last block.\")\n",
    "texts.append(\"Build a tower of height 5 at coordinates (0,1) with a red block as the first block and a black block as the last.\")\n",
    "\n",
    "texts.append(\"A tower of height 5 at coordinates (0,1) with a red block as the first block and a black block as the last block.\")\n",
    "\n",
    "# abbv of height used\n",
    "texts.append(\"A tower of ht 5 at coordinates (0,1) with a red block as the first block and a black block as the last block.\")\n",
    "\n",
    "texts.append(\"A tower 5 blocks tall at coordinates (0,1) with a red block at the bottom and black block at the top.\")\n",
    "\n",
    "texts.append(\"Red block at the bottom and black block at the top in a tower 5 blocks tall at coordinates (0,1).\")\n",
    "\n",
    "texts.append(\"Red block at the bottom, black block at the top in a tower 5 blocks tall at coordinates (0,1).\")\n",
    "\n",
    "texts.append(\"A tower five blocks tall at coordinates (0,1) with a red block as the first block and a black block as the last block.\")\n",
    "\n",
    "texts.append(\"A tower 5 blocks tall at coordinates (0,1) with a red block in position 0 and a black block in position 4.\")\n",
    "\n",
    "texts.append(\"A tower 5 blocks tall at coordinates (0,1) with a red block in 0th position and a black block in last position.\")\n",
    "\n",
    "texts.append(\"A tower 5 blocks tall at coordinates (0,1) with a red block in 0th position and a black block in 4th position.\")\n",
    "\n",
    "texts.append(\"A tower 5 blocks tall at coordinates (0,1) with a red block in 0th position, a black block in 4th position and any block at other positions.\")\n",
    "\n",
    "texts.append(\"A tower 5 blocks tall at coordinates (0,1) with a red block in 0th position, a black block in 4th position and block of any color at other positions.\")\n",
    "\n",
    "texts.append(\"A tower 5 blocks tall at coordinates 0,1 with a red block in 0th position, a black block in 4th position and block of any color at other positions.\")\n",
    "\n",
    "texts.append(\"A tower 5 blocks tall at any coordinates with a red block in 0th position, a black block in 4th position and block of any color at other positions.\")\n",
    "\n",
    "#TC#2\n",
    "texts.append(\"A tower of height 2 at coordinate (0,0) with a black block above a red block\")\n",
    "texts.append(\"A tower 2 blocks tall at coordinate (0,0) with a black block above a red block\")\n",
    "texts.append(\"A tower of height 2 at coordinate (0,0) with a red block below a black block\")\n",
    "texts.append(\"A tower 2 blocks tall at coordinate (0,0) with a red block below a black block\")\n",
    "\n",
    "texts.append(\"A tower of height 2 at coordinate (0,0) with a red block at bottom and a black block at the top\")\n",
    "texts.append(\"A tower 2 blocks tall at coordinate (0,0) with a red block at bottom and a black block at the top\")\n",
    "\n",
    "texts.append(\"A tower of height 2 at coordinate (0,0) with a black block at the top and a red block at the bottom\")\n",
    "texts.append(\"A tower 2 blocks tall at coordinate (0,0) with a black block at the top and a red block at the bottom\")\n",
    "\n",
    "texts.append(\"A tower at coordinate (0,0) with red block at position 0 and black block at position 1\")\n",
    "\n",
    "texts.append(\"A tower with red block at position 0 and black block at position 1 and at coordinate (0,1)\")\n",
    "\n",
    "#TC#2 variant\n",
    "texts.append(\"A tower of height 2 at coordinate (0,0) with red and black block\")\n",
    "texts.append(\"A tower of height 2 at coordinate (0,0) with a red block and a black block\")\n",
    "texts.append(\"A tower at coordinate (0,0) with a red block and a black block\")\n",
    "texts.append(\"A tower with a red block and a black block and at coordinate (0,0)\")\n",
    "\n",
    "\n",
    "# TC3 covered in following\n",
    "texts.append(\"A tower seventeen blocks tall at any coordinate.\")\n",
    "texts.append(\"A tower 17 blocks tall at any coordinate.\")\n",
    "\n",
    "texts.append(\"A tower seventeen blocks tall at any position in xz plane.\")\n",
    "texts.append(\"A tower 17 blocks tall at any position in xz plane.\")\n",
    "\n",
    "texts.append(\"A tower anywhere and seventeen blocks tall.\")\n",
    "texts.append(\"A tower anywhere and 17 blocks tall.\")\n",
    "\n",
    "texts.append(\"A tower anywhere and with height seventeen.\")\n",
    "texts.append(\"A tower anywhere and with height 17.\")\n",
    "\n",
    "texts.append(\"A tower anywhere with seventeen blocks.\")\n",
    "texts.append(\"A tower anywhere with 17 blocks.\")\n",
    "\n",
    "texts.append(\"A tower with seventeen blocks and anywhere.\")\n",
    "texts.append(\"A tower with 17 blocks and anywhere.\")\n",
    "\n",
    "texts.append(\"Seventeen blocks stacked together anywhere.\")\n",
    "texts.append(\"17 blocks stacked together anywhere.\")\n",
    "\n",
    "texts.append(\"Any seventeen blocks stacked together anywhere.\")\n",
    "texts.append(\"Any 17 blocks stacked together anywhere.\")\n",
    "\n",
    "texts.append(\"Any seventeen blocks stacked together in a tower anywhere.\")\n",
    "texts.append(\"Any 17 blocks stacked together in a tower anywhere.\")\n",
    "\n",
    "texts.append(\"Seventeen blocks stacked one above another at any position in xz plane.\")\n",
    "texts.append(\"17 blocks stacked one above another at any position in xz plane.\")\n",
    "\n",
    "texts.append(\"Seventeen blocks in a tower at any position in xz plane.\")\n",
    "texts.append(\"17 blocks in a tower at any position in xz plane.\")\n",
    "\n",
    "texts.append(\"Anywhere build a tower seventeen blocks tall.\")\n",
    "texts.append(\"Anywhere build a tower 17 blocks tall.\")\n",
    "\n",
    "texts.append(\"Build a tower seventeen blocks tall anywhere.\")\n",
    "texts.append(\"Build a tower 17 blocks tall anywhere.\")\n",
    "\n",
    "texts.append(\"Build a tower of height seventeen anywhere.\")\n",
    "texts.append(\"Build a tower of height 17 anywhere.\")\n",
    "\n",
    "texts.append(\"Build a tower with seventeen blocks anywhere.\")\n",
    "texts.append(\"Build a tower with 17 blocks anywhere.\")\n",
    "\n",
    "texts.append(\"Build a tower with seventeen blocks.\")\n",
    "texts.append(\"Build a tower with 17 blocks.\")\n",
    "\n",
    "texts.append(\"Build a tower with seventeen blocks at any position in xz plane.\")\n",
    "texts.append(\"Build a tower with 17 blocks at any position in xz plane.\")\n",
    "\n",
    "texts.append(\"Build a tower anywhere with seventeen blocks.\")\n",
    "texts.append(\"Build a tower anywhere with 17 blocks.\")\n",
    "\n",
    "texts.append(\"Build a tower anywhere and with seventeen blocks.\")\n",
    "texts.append(\"Build a tower anywhere and with 17 blocks.\")\n",
    "\n",
    "texts.append(\"Build a tower at any position in xz plane and with seventeen blocks.\")\n",
    "texts.append(\"Build a tower at any position in xz plane and with 17 blocks.\")\n",
    "\n",
    "texts.append(\"Build a tower at any position in xz plane and with seventeen blocks.\")\n",
    "texts.append(\"Build a tower at any position in xz plane and with 17 blocks.\")\n",
    "\n",
    "def posTag():\n",
    "    \n",
    "    taggedTexts = {}\n",
    "\n",
    "    for text in texts:\n",
    "        taggedTexts[text] = nltk.pos_tag(nltk.word_tokenize(text))\n",
    "\n",
    "    for text in texts:\n",
    "        print(taggedTexts[text])\n",
    "        print()"
   ]
  },
  {
   "cell_type": "markdown",
   "metadata": {},
   "source": [
    "# chunking and chinking"
   ]
  },
  {
   "cell_type": "code",
   "execution_count": 6,
   "metadata": {
    "collapsed": true
   },
   "outputs": [],
   "source": [
    "import nltk"
   ]
  },
  {
   "cell_type": "code",
   "execution_count": 7,
   "metadata": {
    "collapsed": false
   },
   "outputs": [
    {
     "data": {
      "text/plain": [
       "[('A', 'DT'),\n",
       " ('tower', 'NN'),\n",
       " ('of', 'IN'),\n",
       " ('height', 'JJ'),\n",
       " ('5', 'CD'),\n",
       " ('at', 'IN'),\n",
       " ('coordinates', 'NNS'),\n",
       " ('(', '('),\n",
       " ('0,1', 'CD'),\n",
       " (')', ')'),\n",
       " ('with', 'IN'),\n",
       " ('a', 'DT'),\n",
       " ('red', 'JJ'),\n",
       " ('block', 'NN'),\n",
       " ('at', 'IN'),\n",
       " ('position', 'NN'),\n",
       " ('0', 'CD'),\n",
       " ('and', 'CC'),\n",
       " ('black', 'JJ'),\n",
       " ('block', 'NN'),\n",
       " ('at', 'IN'),\n",
       " ('position', 'NN'),\n",
       " ('4', 'CD'),\n",
       " ('.', '.')]"
      ]
     },
     "execution_count": 7,
     "metadata": {},
     "output_type": "execute_result"
    }
   ],
   "source": [
    "text=\"A tower of height 5 at coordinates (0,1) with a red block at position 0 and black block at position 4.\"\n",
    "taggedText=nltk.pos_tag(nltk.word_tokenize(text))\n",
    "taggedText"
   ]
  },
  {
   "cell_type": "code",
   "execution_count": 8,
   "metadata": {
    "collapsed": true
   },
   "outputs": [],
   "source": [
    "grammar = \"NP: {<DT>?<JJ>*<NN>}\"\n",
    "cp = nltk.RegexpParser(grammar) "
   ]
  },
  {
   "cell_type": "code",
   "execution_count": 9,
   "metadata": {
    "collapsed": true
   },
   "outputs": [],
   "source": [
    "result = cp.parse(taggedText)"
   ]
  },
  {
   "cell_type": "code",
   "execution_count": 10,
   "metadata": {
    "collapsed": false
   },
   "outputs": [
    {
     "name": "stdout",
     "output_type": "stream",
     "text": [
      "(S\n",
      "  (NP A/DT tower/NN)\n",
      "  of/IN\n",
      "  height/JJ\n",
      "  5/CD\n",
      "  at/IN\n",
      "  coordinates/NNS\n",
      "  (/(\n",
      "  0,1/CD\n",
      "  )/)\n",
      "  with/IN\n",
      "  (NP a/DT red/JJ block/NN)\n",
      "  at/IN\n",
      "  (NP position/NN)\n",
      "  0/CD\n",
      "  and/CC\n",
      "  (NP black/JJ block/NN)\n",
      "  at/IN\n",
      "  (NP position/NN)\n",
      "  4/CD\n",
      "  ./.)\n"
     ]
    }
   ],
   "source": [
    "print(result)"
   ]
  },
  {
   "cell_type": "code",
   "execution_count": null,
   "metadata": {
    "collapsed": true
   },
   "outputs": [],
   "source": [
    "result.draw()"
   ]
  },
  {
   "cell_type": "code",
   "execution_count": 11,
   "metadata": {
    "collapsed": false
   },
   "outputs": [
    {
     "data": {
      "text/plain": [
       "[('A', 'DT'),\n",
       " ('tower', 'NN'),\n",
       " ('of', 'IN'),\n",
       " ('height', 'JJ'),\n",
       " ('2', 'CD'),\n",
       " ('at', 'IN'),\n",
       " ('coordinate', 'NN'),\n",
       " ('(', '('),\n",
       " ('0,0', 'CD'),\n",
       " (')', ')'),\n",
       " ('with', 'IN'),\n",
       " ('a', 'DT'),\n",
       " ('black', 'JJ'),\n",
       " ('block', 'NN'),\n",
       " ('above', 'IN'),\n",
       " ('a', 'DT'),\n",
       " ('red', 'JJ'),\n",
       " ('block', 'NN')]"
      ]
     },
     "execution_count": 11,
     "metadata": {},
     "output_type": "execute_result"
    }
   ],
   "source": [
    "text=\"A tower of height 2 at coordinate (0,0) with a black block above a red block\"\n",
    "taggedText=nltk.pos_tag(nltk.word_tokenize(text))\n",
    "taggedText"
   ]
  },
  {
   "cell_type": "code",
   "execution_count": 12,
   "metadata": {
    "collapsed": false
   },
   "outputs": [
    {
     "name": "stdout",
     "output_type": "stream",
     "text": [
      "(S\n",
      "  (NP A/DT tower/NN)\n",
      "  of/IN\n",
      "  height/JJ\n",
      "  2/CD\n",
      "  at/IN\n",
      "  (NP coordinate/NN)\n",
      "  (/(\n",
      "  0,0/CD\n",
      "  )/)\n",
      "  with/IN\n",
      "  (NP a/DT black/JJ block/NN)\n",
      "  above/IN\n",
      "  (NP a/DT red/JJ block/NN))\n"
     ]
    }
   ],
   "source": [
    "result = cp.parse(taggedText)\n",
    "print(result)"
   ]
  },
  {
   "cell_type": "code",
   "execution_count": 13,
   "metadata": {
    "collapsed": false,
    "scrolled": true
   },
   "outputs": [
    {
     "name": "stdout",
     "output_type": "stream",
     "text": [
      "RB: adverb\n",
      "    occasionally unabatingly maddeningly adventurously professedly\n",
      "    stirringly prominently technologically magisterially predominately\n",
      "    swiftly fiscally pitilessly ...\n"
     ]
    }
   ],
   "source": [
    "nltk.help.upenn_tagset('RB')"
   ]
  },
  {
   "cell_type": "code",
   "execution_count": null,
   "metadata": {
    "collapsed": true
   },
   "outputs": [],
   "source": []
  }
 ],
 "metadata": {
  "anaconda-cloud": {},
  "kernelspec": {
   "display_name": "Python [conda root]",
   "language": "python",
   "name": "conda-root-py"
  },
  "language_info": {
   "codemirror_mode": {
    "name": "ipython",
    "version": 3
   },
   "file_extension": ".py",
   "mimetype": "text/x-python",
   "name": "python",
   "nbconvert_exporter": "python",
   "pygments_lexer": "ipython3",
   "version": "3.5.2"
  }
 },
 "nbformat": 4,
 "nbformat_minor": 1
}
